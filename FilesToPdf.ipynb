{
  "nbformat": 4,
  "nbformat_minor": 0,
  "metadata": {
    "colab": {
      "provenance": []
    },
    "kernelspec": {
      "name": "python3",
      "display_name": "Python 3"
    },
    "language_info": {
      "name": "python"
    }
  },
  "cells": [
    {
      "cell_type": "code",
      "source": [
        "#Files images to PDF\n",
        "import os\n",
        "from fpdf import FPDF\n",
        "\n",
        "from google.colab import drive\n",
        "drive.mount('/content/drive')\n",
        "\n",
        "pdf = FPDF()\n",
        "pdf.set_auto_page_break(0)\n",
        "\n",
        "imagelist = [i for i in os.listdir('/content/drive/MyDrive/Documentos/Images/') if i.endswith('jpg')]\n",
        "\n",
        "#imagelist is the list with all image filenames\n",
        "for image in sorted(imagelist):\n",
        "    pdf.add_page()\n",
        "    pdf.image('/content/drive/MyDrive/Documentos/Images/' + image, w=190, h=280)\n",
        "\n",
        "pdf.output(\"/content/drive/MyDrive/Documentos/Images.pdf\", 'F')    "
      ],
      "metadata": {
        "id": "ns_lF7K7A_gD"
      },
      "execution_count": null,
      "outputs": []
    },
    {
      "cell_type": "code",
      "source": [
        "#Merge PDF Files\n",
        "\n",
        "import PyPDF2\n",
        "import os\n",
        "\n",
        "merger = PyPDF2.PdfFileMerger()\n",
        "\n",
        "for file in os.listdir(os.curdir):\n",
        "    if file.endswith(\".pdf\"):\n",
        "        merger.append(file)\n",
        "    merger.write(\"combined.pdf\")"
      ],
      "metadata": {
        "id": "kVxJe-xpKnsj"
      },
      "execution_count": null,
      "outputs": []
    }
  ]
}